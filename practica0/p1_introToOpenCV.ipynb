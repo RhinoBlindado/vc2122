{
  "nbformat": 4,
  "nbformat_minor": 0,
  "metadata": {
    "colab": {
      "name": "p1_introToOpenCV.ipynb",
      "provenance": [],
      "collapsed_sections": [],
      "mount_file_id": "15Vus6ryHeyrUGSVq0VYsAKHyukF61jV7",
      "authorship_tag": "ABX9TyN+LcCT4R0BKjMmb0VtfGqv",
      "include_colab_link": true
    },
    "kernelspec": {
      "name": "python3",
      "display_name": "Python 3"
    },
    "language_info": {
      "name": "python"
    }
  },
  "cells": [
    {
      "cell_type": "markdown",
      "metadata": {
        "id": "view-in-github",
        "colab_type": "text"
      },
      "source": [
        "<a href=\"https://colab.research.google.com/github/RhinoBlindado/vc2122/blob/main/p1_introToOpenCV.ipynb\" target=\"_parent\"><img src=\"https://colab.research.google.com/assets/colab-badge.svg\" alt=\"Open In Colab\"/></a>"
      ]
    },
    {
      "cell_type": "markdown",
      "metadata": {
        "id": "lK3N-tas7XQZ"
      },
      "source": [
        "# **Práctica 0**: Introducción a OpenCV\n",
        "ayyy"
      ]
    },
    {
      "cell_type": "markdown",
      "metadata": {
        "id": "af898LD07LqD"
      },
      "source": [
        "---\n",
        "## **Preámbulo**\n",
        "### Añadiendo librerías\n",
        "---"
      ]
    },
    {
      "cell_type": "code",
      "metadata": {
        "colab": {
          "base_uri": "https://localhost:8080/"
        },
        "id": "4OAzvjYG7LED",
        "outputId": "e8287da8-19ec-466a-95ca-c35f7950a4e4"
      },
      "source": [
        "#   Give Google Colab Access to Google Drive\n",
        "from google.colab import drive\n",
        "drive.mount(\"/content/drive/\")\n",
        "\n",
        "#   Using Matplotlib to show images\n",
        "import matplotlib.pyplot as plt\n",
        "import matplotlib.colors as clr\n",
        "\n",
        "#   Using OpenCV for everything else related to images.\n",
        "import cv2 as cv\n",
        "\n",
        "#   Using Numpy to manipulate images\n",
        "import numpy as np"
      ],
      "execution_count": 25,
      "outputs": [
        {
          "output_type": "stream",
          "name": "stdout",
          "text": [
            "Drive already mounted at /content/drive/; to attempt to forcibly remount, call drive.mount(\"/content/drive/\", force_remount=True).\n"
          ]
        }
      ]
    },
    {
      "cell_type": "markdown",
      "metadata": {
        "id": "txmgim428b6q"
      },
      "source": [
        "---\n",
        "##**Ejercicio 1** \n",
        "\n",
        "\n",
        "### Escribir una función que lea el fichero de una imagen y permita mostrarla tanto en grises como en color\n",
        "\n",
        "---\n"
      ]
    },
    {
      "cell_type": "markdown",
      "metadata": {
        "id": "SnWoOCxKBREr"
      },
      "source": [
        ""
      ]
    },
    {
      "cell_type": "code",
      "metadata": {
        "id": "19FI0NCl_sz_"
      },
      "source": [
        "def leeImagen(filename, flagColor):\n",
        "    \"\"\"\n",
        "    Read an image from file.\n",
        "    \n",
        "    Parameters\n",
        "    ----------\n",
        "    filename : String\n",
        "        Path to a valid image file.\n",
        "    flagColor : Boolean\n",
        "        Value indicating to read the image with RGB (True) or Grayscale (False).\n",
        "\n",
        "    Returns\n",
        "    -------\n",
        "    TYPE\n",
        "        DESCRIPTION.\n",
        "\n",
        "    \"\"\"\n",
        "    return cv.imread(filename, int(flagColor))"
      ],
      "execution_count": 26,
      "outputs": []
    },
    {
      "cell_type": "markdown",
      "metadata": {
        "id": "8Bvcy_11BP--"
      },
      "source": [
        ""
      ]
    },
    {
      "cell_type": "code",
      "metadata": {
        "colab": {
          "base_uri": "https://localhost:8080/"
        },
        "id": "CVLNoYMQ8ZPY",
        "outputId": "7bacb139-9243-4c5d-f6aa-2c78347d5ada"
      },
      "source": [
        "\n",
        "\n",
        "#   Path the test images.\n",
        "srcOrapple = \"/content/drive//MyDrive/Colab Notebooks/images/orapple.jpg\"\n",
        "srcMessi = \"/content/drive//MyDrive/Colab Notebooks/images/messi.jpg\"\n",
        "srcLogo = \"/content/drive//MyDrive/Colab Notebooks/images/logoOpenCV.jpg\"\n",
        "srcDave = \"/content/drive//MyDrive/Colab Notebooks/images/dave.jpg\"\n",
        "\n",
        "#   Reading image as greyscale.\n",
        "imageOrappleGrey = leeImagen(srcOrapple, False)\n",
        "#   Now with colors.\n",
        "imageOrappleColor = leeImagen(srcOrapple, True)\n",
        "\n",
        "#   Rest of images\n",
        "imageDave = leeImagen(srcDave, False)\n",
        "imageMessi = leeImagen(srcMessi, False)\n",
        "imageLogo = leeImagen(srcLogo, True)\n"
      ],
      "execution_count": 35,
      "outputs": [
        {
          "output_type": "stream",
          "name": "stdout",
          "text": [
            "[[[255 255 255]\n",
            "  [255 255 255]\n",
            "  [255 255 255]\n",
            "  ...\n",
            "  [196 196 196]\n",
            "  [196 196 196]\n",
            "  [196 196 196]]\n",
            "\n",
            " [[255 255 255]\n",
            "  [255 255 255]\n",
            "  [255 255 255]\n",
            "  ...\n",
            "  [107 107 107]\n",
            "  [107 107 107]\n",
            "  [107 107 107]]\n",
            "\n",
            " [[255 255 255]\n",
            "  [255 255 255]\n",
            "  [255 255 255]\n",
            "  ...\n",
            "  [253 253 253]\n",
            "  [253 253 253]\n",
            "  [253 253 253]]\n",
            "\n",
            " ...\n",
            "\n",
            " [[252 252 252]\n",
            "  [252 252 252]\n",
            "  [252 252 252]\n",
            "  ...\n",
            "  [204 204 204]\n",
            "  [248 248 248]\n",
            "  [248 248 248]]\n",
            "\n",
            " [[254 254 254]\n",
            "  [254 254 254]\n",
            "  [254 254 254]\n",
            "  ...\n",
            "  [246 246 246]\n",
            "  [252 252 252]\n",
            "  [252 252 252]]\n",
            "\n",
            " [[255 255 255]\n",
            "  [255 255 255]\n",
            "  [255 255 255]\n",
            "  ...\n",
            "  [255 255 255]\n",
            "  [255 255 255]\n",
            "  [255 255 255]]]\n"
          ]
        }
      ]
    }
  ]
}